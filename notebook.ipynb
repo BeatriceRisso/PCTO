{
 "cells": [
  {
   "cell_type": "markdown",
   "id": "2d3c6ba5-1964-4612-91ba-314491eac67f",
   "metadata": {},
   "source": [
    "# Tesisquare Dataset Analysis"
   ]
  },
  {
   "cell_type": "markdown",
   "id": "bbbbd9c6-1caa-4b21-b01b-2a02752554f5",
   "metadata": {},
   "source": [
    "## A data science project by Porsche GTRR"
   ]
  },
  {
   "cell_type": "markdown",
   "id": "f0fa181e-5c6b-48e5-a590-45f133b8731d",
   "metadata": {},
   "source": [
    "We are the Porsche GTRR a team formed by Grosso Luca, Torterolo Francesco, Risso Beatrice e Robresco Simone"
   ]
  },
  {
   "cell_type": "markdown",
   "id": "713dc636-7fb2-45c6-9583-a46e7ff561f9",
   "metadata": {},
   "source": [
    "# Tesisquare Dataset Analysis Project"
   ]
  },
  {
   "cell_type": "markdown",
   "id": "6c61658c-4719-4d04-8c5a-ae15e2467328",
   "metadata": {},
   "source": [
    "### Roles:\n"
   ]
  },
  {
   "cell_type": "markdown",
   "id": "e69ac8e4-a47f-4d5e-a182-3db9494e1f94",
   "metadata": {},
   "source": [
    "- __Graphics Designer:__ Luca Grosso\n",
    "- __Coders:__ Simone Robresco, Francesco Torterolo, Beatrice Risso\n",
    "- __Notebook Redactor:__ Beatrice Risso, Luca Grosso"
   ]
  },
  {
   "cell_type": "markdown",
   "id": "afa43b14-91b9-4de5-881a-2438e461dfed",
   "metadata": {},
   "source": [
    "## Project Structure"
   ]
  },
  {
   "cell_type": "markdown",
   "id": "60f0a159-3a17-4e57-b51a-53bfe03da198",
   "metadata": {},
   "source": [
    "1. __Introduction:__ Overview of the project goals and team roles.\n",
    "2. __Dataset Description:__ Summary of the dataset provided by Tesisquare and its key features.\n",
    "3. __Exploratory Data Analysis (EDA):__ High-level exploration of trends and patterns.\n",
    "4. __Conclusions:__ Insights derived from the analysis."
   ]
  },
  {
   "cell_type": "markdown",
   "id": "3e803bb7-6ff6-4f6d-af37-5a8dd98ab4a1",
   "metadata": {},
   "source": [
    "## Introduction"
   ]
  },
  {
   "cell_type": "markdown",
   "id": "a89e77b0-7bda-400f-8ed2-9d24d0a26239",
   "metadata": {},
   "source": [
    "In this project, our team analyzed a dataset provided by the company Tesisquare related to logistics to analyze the data and the relationships between the different features of the dataset. Specifically, we examined the connections between: \n"
   ]
  },
  {
   "cell_type": "markdown",
   "id": "73ff49fa-f953-4dc3-a538-c5d4d24de795",
   "metadata": {},
   "source": [
    "- __SERVICETYPE:__  type of service or vehicle used for the delivery\n",
    "- __VEHICLETYPE:__ type of vehicle\n",
    "- __DEPARTURE_COUNTRY:__ country of departure\n",
    "- __DEPARTURE_ZIPCODE:__ zipocde (CAP) of departure\n",
    "- __ARRIVAL_COUNTRY:__ country of arrival\n",
    "- __ARRIVAL_ZIPCODE:__ zipcode (CAP) of arrival"
   ]
  },
  {
   "cell_type": "markdown",
   "id": "be93cf57-6bbc-477a-b75a-910cd0589737",
   "metadata": {},
   "source": [
    "Simone Robresco, Francesco Torterolo, and Beatrice Risso developed the code for data analysis and visualization. Simone Robresco and Luca Grosso designed the types of charts used and the website. Beatrice Risso and Luca Grosso organized the notebook and customized the project presentation."
   ]
  },
  {
   "cell_type": "markdown",
   "id": "376994df-e95d-4b8d-b36d-cc0b934609a1",
   "metadata": {},
   "source": [
    "# Dataset Description"
   ]
  },
  {
   "cell_type": "markdown",
   "id": "08e88a3b-c889-41c2-af01-0e25f2878c3d",
   "metadata": {},
   "source": [
    "The dataset provides logistics data from a company that handles intercontinental shipments, including:"
   ]
  },
  {
   "cell_type": "markdown",
   "id": "a9727c4a-cf55-482a-a2bb-022ae554c433",
   "metadata": {},
   "source": [
    "- Logistics details (e.g., mode of transport used, services utilized, shipping day and date). \n",
    "- Travel-related information (e.g., departure and arrival countries, departure and arrival zip codes, distance in km).\n",
    "- Information related to the transported products (e.g., net and gross weight, volume). "
   ]
  },
  {
   "cell_type": "markdown",
   "id": "03e67825-d81a-4345-9d4e-8b3fa0f36946",
   "metadata": {},
   "source": [
    "Understanding the data's structure and cleaning it is crucial before diving into the analysis."
   ]
  },
  {
   "cell_type": "markdown",
   "id": "8d3268c2-3621-4767-af01-5d4363032a63",
   "metadata": {},
   "source": [
    "# Exploratory Data Analysis (EDA)"
   ]
  },
  {
   "cell_type": "markdown",
   "id": "f293009c-de50-4cab-b933-02c7e0e7a026",
   "metadata": {},
   "source": [
    "## __Goals of the Analysis__"
   ]
  },
  {
   "cell_type": "markdown",
   "id": "688b9915-a8b5-453b-9551-50d9cc196a2e",
   "metadata": {},
   "source": [
    "The main objective of this analysis is to understand the relationships between the characteristics of the shipments and the delivery times. Key areas of interest include:\n",
    "\n",
    "- The difference in vehicles and services.\n",
    "- The departure and arrival countries\n",
    "- The shipping date.\n"
   ]
  },
  {
   "cell_type": "markdown",
   "id": "c4f4ce5e-b7c9-4543-b5d8-3e7279b0f8e9",
   "metadata": {},
   "source": [
    "### Importation of libraries and upload of the dataset"
   ]
  },
  {
   "cell_type": "code",
   "execution_count": null,
   "id": "51e94d93-aaec-42e8-84d9-4c0d3b75b0c3",
   "metadata": {},
   "outputs": [],
   "source": [
    "import pandas as pd\n",
    "import numpy as np\n",
    "import matplotlib.pyplot as plt"
   ]
  },
  {
   "cell_type": "code",
   "execution_count": null,
   "id": "a03488fc-524b-414e-938a-fc946e96ca78",
   "metadata": {},
   "outputs": [],
   "source": [
    "# Carica il dataset\n",
    "file_path = './delivery_data.csv'  # Sostituisci con il percorso del TUO file\n",
    "data = pd.read_csv(file_path)"
   ]
  },
  {
   "cell_type": "markdown",
   "id": "c83cd22f-64cf-46f2-bdf1-04029caaedfe",
   "metadata": {},
   "source": [
    "### Basic analysis of the features and values of the dataset"
   ]
  },
  {
   "cell_type": "code",
   "execution_count": null,
   "id": "f9b8af92-b737-429d-8b1e-8e6ad7a8ed85",
   "metadata": {},
   "outputs": [],
   "source": [
    "# Mostra le prime righe del dataset\n",
    "print(\"Prime righe del dataset:\")\n",
    "print(data.head())"
   ]
  },
  {
   "cell_type": "code",
   "execution_count": null,
   "id": "d41873f2-46af-4143-94d4-e632b493d1e5",
   "metadata": {},
   "outputs": [],
   "source": [
    "# Statistiche descrittive\n",
    "print(\"\\nStatistiche descrittive:\")\n",
    "data.describe()\n"
   ]
  },
  {
   "cell_type": "code",
   "execution_count": null,
   "id": "dea45e5d-70ea-4d15-b888-6720ae652af9",
   "metadata": {},
   "outputs": [],
   "source": [
    "# Controlla i valori nulli\n",
    "print(\"\\nValori nulli nel dataset:\")\n",
    "print(data.isnull().sum())"
   ]
  },
  {
   "cell_type": "markdown",
   "id": "45d6127e-c193-40f4-9a1d-94ab42578376",
   "metadata": {},
   "source": [
    "### Count of shippings arrival and departure"
   ]
  },
  {
   "cell_type": "code",
   "execution_count": null,
   "id": "a30bc7d5-5b55-4009-96eb-7b89ff1847ac",
   "metadata": {},
   "outputs": [],
   "source": [
    "# Conta le spedizioni dagli Stati Uniti (US)\n",
    "us_shipments_count = data[data['DEPARTURE_COUNTRY'] == 'US'].shape[0]\n",
    "print(f\"\\nNumero di spedizioni da US: {us_shipments_count}\")\n",
    "\n",
    "\n",
    "# Conteggio delle spedizioni per paese di arrivo, solo per quelle partite da US\n",
    "arrival_counts_us = data[data['DEPARTURE_COUNTRY'] == 'US']['ARRIVAL_COUNTRY'].value_counts()\n",
    "print(\"\\nConteggio delle spedizioni per paese di arrivo (solo partite da US):\")\n",
    "print(arrival_counts_us)\n",
    "\n",
    "\n",
    "# Totale delle spedizioni da US a IT\n",
    "us_to_it_count = data[(data['DEPARTURE_COUNTRY'] == 'US') & (data['ARRIVAL_COUNTRY'] == 'IT')].shape[0]\n",
    "print(f\"Numero di spedizioni da US a IT: {us_to_it_count}\")\n",
    "\n",
    "\n",
    "# Totale delle spedizioni da US a US\n",
    "us_to_us_count = data[(data['DEPARTURE_COUNTRY'] == 'US') & (data['ARRIVAL_COUNTRY'] == 'US')].shape[0]\n",
    "print(f\"Numero di spedizioni da US a US: {us_to_us_count}\")\n",
    "\n",
    "\n",
    "# Conta le spedizioni dall'Italia (IT)\n",
    "it_shipments_count = data[data['DEPARTURE_COUNTRY'] == 'IT'].shape[0]\n",
    "print(f\"\\nNumero di spedizioni da IT: {it_shipments_count}\")\n",
    "\n",
    "\n",
    "# Conteggio delle spedizioni per paese di arrivo, solo per quelle partite da IT\n",
    "arrival_counts_it = data[data['DEPARTURE_COUNTRY'] == 'IT']['ARRIVAL_COUNTRY'].value_counts()\n",
    "print(\"\\nConteggio delle spedizioni per paese di arrivo (solo partite da IT):\")\n",
    "print(arrival_counts_it)\n",
    "\n",
    "\n",
    "# Totale delle spedizioni da IT to US \n",
    "it_to_us_count = data[(data['DEPARTURE_COUNTRY'] == 'IT') & (data['ARRIVAL_COUNTRY'] == 'US')].shape[0]\n",
    "print(f\"Numero di spedizioni da IT a US: {it_to_us_count}\")\n",
    "\n",
    "\n",
    "# Totale delle spedizioni da IT to IT\n",
    "it_to_it_count = data[(data['DEPARTURE_COUNTRY'] == 'IT') & (data['ARRIVAL_COUNTRY'] == 'IT')].shape[0]\n",
    "print(f\"Numero di spedizioni da IT to IT: {it_to_it_count}\")"
   ]
  },
  {
   "cell_type": "code",
   "execution_count": null,
   "id": "b8f6fa86-39d0-42da-9566-828e1cbf1156",
   "metadata": {},
   "outputs": [],
   "source": []
  },
  {
   "cell_type": "code",
   "execution_count": null,
   "id": "32d4db44-5c07-4743-afa8-34557d6bd63d",
   "metadata": {},
   "outputs": [],
   "source": [
    "print(\"Dimensioni del dataset:\", data.shape)  # Dimensioni del dataset\n",
    "data.info()  # Informazioni generali su tipi di dati e conteggio dei valori NON nulli\n",
    "\n",
    "# Calcoliamo il numero di valori mancanti per ogni colonna\n",
    "missing_values = data.isnull().sum()\n",
    "\n",
    "# Stampa dei dati mancanti nelle diverse colonne \n",
    "print(\"Colonne con dati mancanti\")\n",
    "missing_values[missing_values > 0]  # Mostriamo solo le colonne con valori mancanti\n",
    "\n",
    "\n",
    "# Visualizziamo il conteggio di ciascuna categoria per tutte le colonne.\n",
    "# Questo ci aiuta a capire meglio la distribuzione dei dati.\n",
    "for column in data.columns:\n",
    "    print(f\"Conteggio valori per la colonna '{column}':\")\n",
    "    print(data[column].value_counts())\n",
    "    print(\"\\n\")\n",
    "    "
   ]
  },
  {
   "cell_type": "code",
   "execution_count": null,
   "id": "80b55d06-4ad0-4227-b530-e9760df79f93",
   "metadata": {},
   "outputs": [],
   "source": [
    "# Creiamo istogrammi per ogni variabile numerica per visualizzare la distribuzione dei dati\n",
    "numerical_columns = data.select_dtypes(include=[np.number]).columns  # Trova le colonne numeriche\n",
    "data[numerical_columns].hist(bins=20, figsize=(15, 10))  # Istogrammi con 15 bin per ogni variabile numerica\n",
    "plt.suptitle(\"Distribuzione delle variabili numeriche\")  # Titolo generale per tutti gli istogrammi\n",
    "plt.show()"
   ]
  },
  {
   "cell_type": "code",
   "execution_count": 34,
   "id": "06d3b1c5-ae87-42d3-afce-8a88a355deab",
   "metadata": {},
   "outputs": [
    {
     "name": "stdout",
     "output_type": "stream",
     "text": [
      "Nuovo CSV creato con righe senza valori nulli: ./delivery_clean.csv\n"
     ]
    }
   ],
   "source": [
    "# Filtra le righe senza valori nulli\n",
    "data_no_nulls = data.dropna()\n",
    "\n",
    "# Salva il nuovo DataFrame in un file CSV\n",
    "output_file_path = './delivery_clean.csv'  # Sostituisci con il percorso desiderato\n",
    "data_no_nulls.to_csv(output_file_path, index=False)\n",
    "\n",
    "print(f\"Nuovo CSV creato con righe senza valori nulli: {output_file_path}\")"
   ]
  },
  {
   "cell_type": "code",
   "execution_count": null,
   "id": "df894958-e2d2-4b5a-86ea-aa3241f3aa73",
   "metadata": {},
   "outputs": [],
   "source": []
  },
  {
   "cell_type": "code",
   "execution_count": null,
   "id": "4cc3d185-ff93-4b2a-8217-828db2b42646",
   "metadata": {},
   "outputs": [],
   "source": []
  },
  {
   "cell_type": "code",
   "execution_count": null,
   "id": "57fe2c32-668e-42f5-bc9a-d659a78c4652",
   "metadata": {},
   "outputs": [],
   "source": []
  },
  {
   "cell_type": "code",
   "execution_count": null,
   "id": "9eb18b07-0d92-4c65-8bc5-829b940fb2f8",
   "metadata": {},
   "outputs": [],
   "source": []
  },
  {
   "cell_type": "code",
   "execution_count": null,
   "id": "8eea6c79-0aa8-4e13-a2c2-2be27e62c26b",
   "metadata": {},
   "outputs": [],
   "source": []
  },
  {
   "cell_type": "code",
   "execution_count": null,
   "id": "6390f56d-49d8-49b5-b1bb-3cce17fcfbac",
   "metadata": {},
   "outputs": [],
   "source": []
  },
  {
   "cell_type": "code",
   "execution_count": null,
   "id": "3f0ba7e2-29ab-4c30-bfaa-da0c7efc3230",
   "metadata": {},
   "outputs": [],
   "source": []
  },
  {
   "cell_type": "code",
   "execution_count": null,
   "id": "ca741eaf-20c0-4e65-9505-4fb42f6371ce",
   "metadata": {},
   "outputs": [],
   "source": []
  }
 ],
 "metadata": {
  "kernelspec": {
   "display_name": "Python 3 (ipykernel)",
   "language": "python",
   "name": "python3"
  },
  "language_info": {
   "codemirror_mode": {
    "name": "ipython",
    "version": 3
   },
   "file_extension": ".py",
   "mimetype": "text/x-python",
   "name": "python",
   "nbconvert_exporter": "python",
   "pygments_lexer": "ipython3",
   "version": "3.13.0"
  }
 },
 "nbformat": 4,
 "nbformat_minor": 5
}
